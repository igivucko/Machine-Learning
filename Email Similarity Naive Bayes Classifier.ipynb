{
 "cells": [
  {
   "cell_type": "markdown",
   "metadata": {},
   "source": [
    "### Email Similarity Naive Bayes Classifier"
   ]
  },
  {
   "cell_type": "markdown",
   "metadata": {},
   "source": [
    "Use scikit-learn’s Naive Bayes implementation on several different datasets. By reporting the accuracy of the classifier, find which datasets are harder to distinguish. \n",
    "\n",
    "- How difficult is to distinguish the difference between emails about hockey and emails about soccer? \n",
    "\n",
    "- How hard is it to tell the difference between emails about hockey and emails about tech? "
   ]
  },
  {
   "cell_type": "markdown",
   "metadata": {},
   "source": [
    "#### Import Modules"
   ]
  },
  {
   "cell_type": "code",
   "execution_count": 13,
   "metadata": {},
   "outputs": [],
   "source": [
    "from sklearn.datasets import fetch_20newsgroups\n",
    "from sklearn.naive_bayes import MultinomialNB\n",
    "from sklearn.feature_extraction.text import CountVectorizer"
   ]
  },
  {
   "cell_type": "markdown",
   "metadata": {},
   "source": [
    "#### Exploring the Data"
   ]
  },
  {
   "cell_type": "code",
   "execution_count": 14,
   "metadata": {},
   "outputs": [],
   "source": [
    "# emails = fetch_20newsgroups()\n",
    "# emails.target_names >>>\n",
    "# ['alt.atheism',\n",
    "# 'comp.graphics',\n",
    "# 'comp.os.ms-windows.misc',\n",
    "# 'comp.sys.ibm.pc.hardware',\n",
    "# 'comp.sys.mac.hardware',\n",
    "# 'comp.windows.x',\n",
    "# 'misc.forsale',\n",
    "# 'rec.autos',\n",
    "# 'rec.motorcycles',\n",
    "# 'rec.sport.baseball',\n",
    "# 'rec.sport.hockey',\n",
    "# 'sci.crypt',\n",
    "# 'sci.electronics',\n",
    "# 'sci.med',\n",
    "# 'sci.space',\n",
    "# 'soc.religion.christian',\n",
    "# 'talk.politics.guns',\n",
    "# 'talk.politics.mideast',\n",
    "# 'talk.politics.misc',\n",
    "# 'talk.religion.misc'] "
   ]
  },
  {
   "cell_type": "code",
   "execution_count": 15,
   "metadata": {},
   "outputs": [],
   "source": [
    "# since the scope of task 2. is to distinguish the difference between emails \n",
    "# about hockey and emails about soccer, in the function call the parametar\n",
    "# categories is set equal to the list ['rec.sport.baseball', 'rec.sport.hockey']\n",
    "emails = fetch_20newsgroups(categories = \\\n",
    "    ['rec.sport.baseball', 'rec.sport.hockey'])"
   ]
  },
  {
   "cell_type": "code",
   "execution_count": 21,
   "metadata": {},
   "outputs": [
    {
     "data": {
      "text/plain": [
       "dict_keys(['data', 'filenames', 'target_names', 'target', 'DESCR'])"
      ]
     },
     "execution_count": 21,
     "metadata": {},
     "output_type": "execute_result"
    }
   ],
   "source": [
    "emails.keys()"
   ]
  },
  {
   "cell_type": "code",
   "execution_count": 22,
   "metadata": {},
   "outputs": [
    {
     "data": {
      "text/plain": [
       "['rec.sport.baseball', 'rec.sport.hockey']"
      ]
     },
     "execution_count": 22,
     "metadata": {},
     "output_type": "execute_result"
    }
   ],
   "source": [
    "emails.target_names"
   ]
  },
  {
   "cell_type": "code",
   "execution_count": 23,
   "metadata": {},
   "outputs": [
    {
     "data": {
      "text/plain": [
       "'From: mmb@lamar.ColoState.EDU (Michael Burger)\\nSubject: More TV Info\\nDistribution: na\\nNntp-Posting-Host: lamar.acns.colostate.edu\\nOrganization: Colorado State University, Fort Collins, CO  80523\\nLines: 36\\n\\nUnited States Coverage:\\nSunday April 18\\n  N.J./N.Y.I. at Pittsburgh - 1:00 EDT to Eastern Time Zone\\n  ABC - Gary Thorne and Bill Clement\\n\\n  St. Louis at Chicago - 12:00 CDT and 11:00 MDT - to Central/Mountain Zones\\n  ABC - Mike Emerick and Jim Schoenfeld\\n\\n  Los Angeles at Calgary - 12:00 PDT and 11:00 ADT - to Pacific/Alaskan Zones\\n  ABC - Al Michaels and John Davidson\\n\\nTuesday, April 20\\n  N.J./N.Y.I. at Pittsburgh - 7:30 EDT Nationwide\\n  ESPN - Gary Thorne and Bill Clement\\n\\nThursday, April 22 and Saturday April 24\\n  To Be Announced - 7:30 EDT Nationwide\\n  ESPN - To Be Announced\\n\\n\\nCanadian Coverage:\\n\\nSunday, April 18\\n  Buffalo at Boston - 7:30 EDT Nationwide\\n  TSN - ???\\n\\nTuesday, April 20\\n  N.J.D./N.Y. at Pittsburgh - 7:30 EDT Nationwide\\n  TSN - ???\\n\\nWednesday, April 21\\n  St. Louis at Chicago - 8:30 EDT Nationwide\\n  TSN - ???\\n\\n\\n\\n'"
      ]
     },
     "execution_count": 23,
     "metadata": {},
     "output_type": "execute_result"
    }
   ],
   "source": [
    "emails.data[5]"
   ]
  },
  {
   "cell_type": "code",
   "execution_count": 24,
   "metadata": {},
   "outputs": [
    {
     "data": {
      "text/plain": [
       "1"
      ]
     },
     "execution_count": 24,
     "metadata": {},
     "output_type": "execute_result"
    }
   ],
   "source": [
    "emails.target[5]"
   ]
  },
  {
   "cell_type": "markdown",
   "metadata": {},
   "source": [
    "#### Making the Training and Test Sets"
   ]
  },
  {
   "cell_type": "code",
   "execution_count": 26,
   "metadata": {},
   "outputs": [],
   "source": [
    "train_emails = fetch_20newsgroups(categories = \\\n",
    "    ['rec.sport.baseball', 'rec.sport.hockey'], \\\n",
    "    shuffle = True, random_state =108, subset='train')"
   ]
  },
  {
   "cell_type": "code",
   "execution_count": 27,
   "metadata": {},
   "outputs": [],
   "source": [
    "test_emails = fetch_20newsgroups(categories = \\\n",
    "    ['rec.sport.baseball', 'rec.sport.hockey'], \\\n",
    "    shuffle = True, random_state =108, subset='test')"
   ]
  },
  {
   "cell_type": "markdown",
   "metadata": {},
   "source": [
    "#### Use CountVectorizer to transform emails into lists of word counts. "
   ]
  },
  {
   "cell_type": "code",
   "execution_count": 28,
   "metadata": {},
   "outputs": [],
   "source": [
    "counter = CountVectorizer()"
   ]
  },
  {
   "cell_type": "code",
   "execution_count": 29,
   "metadata": {},
   "outputs": [
    {
     "data": {
      "text/plain": [
       "CountVectorizer(analyzer='word', binary=False, decode_error='strict',\n",
       "                dtype=<class 'numpy.int64'>, encoding='utf-8', input='content',\n",
       "                lowercase=True, max_df=1.0, max_features=None, min_df=1,\n",
       "                ngram_range=(1, 1), preprocessor=None, stop_words=None,\n",
       "                strip_accents=None, token_pattern='(?u)\\\\b\\\\w\\\\w+\\\\b',\n",
       "                tokenizer=None, vocabulary=None)"
      ]
     },
     "execution_count": 29,
     "metadata": {},
     "output_type": "execute_result"
    }
   ],
   "source": [
    "counter.fit(test_emails.data + train_emails.data)"
   ]
  },
  {
   "cell_type": "code",
   "execution_count": 30,
   "metadata": {},
   "outputs": [],
   "source": [
    "train_counts = counter.transform(train_emails.data)\n",
    "test_counts = counter.transform(test_emails.data)"
   ]
  },
  {
   "cell_type": "markdown",
   "metadata": {},
   "source": [
    "#### Making a Naive Bayes Classifier"
   ]
  },
  {
   "cell_type": "code",
   "execution_count": 31,
   "metadata": {},
   "outputs": [],
   "source": [
    "classifier = MultinomialNB()"
   ]
  },
  {
   "cell_type": "code",
   "execution_count": 32,
   "metadata": {},
   "outputs": [
    {
     "data": {
      "text/plain": [
       "MultinomialNB(alpha=1.0, class_prior=None, fit_prior=True)"
      ]
     },
     "execution_count": 32,
     "metadata": {},
     "output_type": "execute_result"
    }
   ],
   "source": [
    "classifier.fit(train_counts, train_emails.target)"
   ]
  },
  {
   "cell_type": "code",
   "execution_count": 33,
   "metadata": {},
   "outputs": [
    {
     "name": "stdout",
     "output_type": "stream",
     "text": [
      "0.9723618090452262\n"
     ]
    }
   ],
   "source": [
    "print(classifier.score(test_counts, test_emails.target))"
   ]
  },
  {
   "cell_type": "code",
   "execution_count": null,
   "metadata": {},
   "outputs": [],
   "source": []
  }
 ],
 "metadata": {
  "kernelspec": {
   "display_name": "Python 3",
   "language": "python",
   "name": "python3"
  },
  "language_info": {
   "codemirror_mode": {
    "name": "ipython",
    "version": 3
   },
   "file_extension": ".py",
   "mimetype": "text/x-python",
   "name": "python",
   "nbconvert_exporter": "python",
   "pygments_lexer": "ipython3",
   "version": "3.7.6"
  }
 },
 "nbformat": 4,
 "nbformat_minor": 4
}
